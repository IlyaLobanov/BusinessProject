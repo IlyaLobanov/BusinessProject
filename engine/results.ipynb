{
 "cells": [
  {
   "cell_type": "code",
   "execution_count": 23,
   "metadata": {},
   "outputs": [
    {
     "name": "stdout",
     "output_type": "stream",
     "text": [
      "The autoreload extension is already loaded. To reload it, use:\n",
      "  %reload_ext autoreload\n"
     ]
    }
   ],
   "source": [
    "%load_ext autoreload\n",
    "%autoreload 2\n",
    "\n",
    "import pandas as pd\n",
    "import numpy as np\n",
    "import json\n",
    "import os\n",
    "import pickle\n",
    "import sys\n",
    "\n",
    "from candle import Candle\n",
    "from pprint import pprint\n"
   ]
  },
  {
   "cell_type": "code",
   "execution_count": 12,
   "metadata": {},
   "outputs": [],
   "source": [
    "marketdata_path = '../marketdata/project_train'"
   ]
  },
  {
   "cell_type": "code",
   "execution_count": 16,
   "metadata": {},
   "outputs": [],
   "source": [
    "result = {}\n",
    "sys.path.append(marketdata_path)\n",
    "directory = os.fsencode(marketdata_path)\n",
    "\n",
    "for file in os.listdir(directory):\n",
    "    filename = os.fsdecode(file)\n",
    "    if filename == '.DS_Store':\n",
    "        continue\n",
    "    symbol = filename.split('.')[0]\n",
    "    with open(f'{marketdata_path}/{filename}', 'rb') as f:\n",
    "        marketdata = pickle.load(f)\n",
    "        result[symbol] = marketdata\n",
    "        "
   ]
  },
  {
   "cell_type": "code",
   "execution_count": 27,
   "metadata": {},
   "outputs": [],
   "source": [
    "def candle_to_dict(candle):\n",
    "    return {\n",
    "        \"start_time\": candle.start_time,\n",
    "        \"open_price\": candle.open_price,\n",
    "        \"max_price\": candle.max_price,\n",
    "        \"min_price\": candle.min_price,\n",
    "        \"close_price\": candle.close_price,\n",
    "        \"token_volume\": candle.token_volume,\n",
    "        \"quote_volume\": candle.quote_volume,\n",
    "        \"end_time\": candle.end_time,\n",
    "        \"trades_amount\": candle.trades_amount\n",
    "    }\n",
    "\n",
    "\n",
    "with open(\"full_data.json\", \"w\") as file:\n",
    "    json.dump({token: [candle_to_dict(c) for c in candles] for token, candles in result.items()}, file)"
   ]
  }
 ],
 "metadata": {
  "kernelspec": {
   "display_name": "Python 3",
   "language": "python",
   "name": "python3"
  },
  "language_info": {
   "codemirror_mode": {
    "name": "ipython",
    "version": 3
   },
   "file_extension": ".py",
   "mimetype": "text/x-python",
   "name": "python",
   "nbconvert_exporter": "python",
   "pygments_lexer": "ipython3",
   "version": "3.11.5"
  },
  "orig_nbformat": 4
 },
 "nbformat": 4,
 "nbformat_minor": 2
}
